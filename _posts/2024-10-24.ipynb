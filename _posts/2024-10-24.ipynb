{
 "cells": [
  {
   "cell_type": "markdown",
   "metadata": {},
   "source": [
    "---\n",
    "title: \"Your Blog Post Title\"\n",
    "description: \"A brief description of the post\"\n",
    "author: \"Your Name\"\n",
    "categories: [Category1, Category2]\n",
    "tags: [Tag1, Tag2]\n",
    "toc: true\n",
    "comments: true\n",
    "image: images/blog_image.png\n",
    "hide: false\n",
    "search_exclude: false\n",
    "---"
   ]
  }
 ],
 "metadata": {
  "kernelspec": {
   "display_name": "Python11",
   "language": "python",
   "name": "python3"
  },
  "language_info": {
   "codemirror_mode": {
    "name": "ipython",
    "version": 3
   },
   "file_extension": ".py",
   "mimetype": "text/x-python",
   "name": "python",
   "nbconvert_exporter": "python",
   "pygments_lexer": "ipython3",
   "version": "3.11.9"
  }
 },
 "nbformat": 4,
 "nbformat_minor": 2
}
